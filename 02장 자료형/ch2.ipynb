{
 "cells": [
  {
   "cell_type": "markdown",
   "metadata": {},
   "source": [
    "##### 점프 투 파이썬\n",
    "---\n",
    "02장 연습문제"
   ]
  },
  {
   "cell_type": "markdown",
   "metadata": {},
   "source": [
    "> Q1    \n",
    "``` py\n",
    "    홍길동 씨의 과목별 점수는 다음과 같다. 홍길동 씨의 평균 점수를 구해 보자.\n",
    "\n",
    "    과목\t점수\n",
    "    국어\t80\n",
    "    영어\t75\n",
    "    수학\t55   \n",
    "```"
   ]
  },
  {
   "cell_type": "code",
   "execution_count": 7,
   "metadata": {},
   "outputs": [
    {
     "name": "stdout",
     "output_type": "stream",
     "text": [
      "평균은  70.0 입니다.\n"
     ]
    }
   ],
   "source": [
    "국어 = 80\n",
    "영어 = 75\n",
    "수학 = 55\n",
    "\n",
    "# 왼쪽(lvalue, 변수) = 오른쪽(rvalue, 값) \n",
    "총점 = 국어 + 영어 + 수학\n",
    "평균 = 총점 / 3\n",
    "\n",
    "print(\"평균은 \", 평균, \"입니다.\")"
   ]
  },
  {
   "cell_type": "code",
   "execution_count": 8,
   "metadata": {},
   "outputs": [
    {
     "name": "stdout",
     "output_type": "stream",
     "text": [
      "avg =  70.0\n"
     ]
    }
   ],
   "source": [
    "# 국어 점수\n",
    "kor = 80\n",
    "# 영어 점수\n",
    "eng = 75\n",
    "# 수학 점수\n",
    "math = 55\n",
    "\n",
    "# 총점\n",
    "total = kor + eng + math\n",
    "# 평균\n",
    "avg = total / 3\n",
    "\n",
    "print(\"avg = \", avg)"
   ]
  },
  {
   "cell_type": "code",
   "execution_count": 22,
   "metadata": {},
   "outputs": [
    {
     "name": "stdout",
     "output_type": "stream",
     "text": [
      "avg =  70.0\n"
     ]
    }
   ],
   "source": [
    "# print(type([]))\n",
    "subjects = [80, 75, 55]\n",
    "total = subjects[0] + subjects[1] + subjects[2]\n",
    "\n",
    "'''\n",
    "subjects.__len__()\n",
    "# __ 있는 메소드 : special(magic) method → 객체 내에서만 호출 가능 (오버라이딩 개념)\n",
    "# 메소드 : 클래스 내에서 구현한 기능\n",
    "\n",
    "len(subjects)\n",
    "'''\n",
    "\n",
    "avg = total / len(subjects)\n",
    "\n",
    "print(\"avg = \", avg)"
   ]
  },
  {
   "cell_type": "code",
   "execution_count": 21,
   "metadata": {},
   "outputs": [
    {
     "name": "stdout",
     "output_type": "stream",
     "text": [
      "avg =  70.0\n"
     ]
    }
   ],
   "source": [
    "subjects = [80, 75, 55]\n",
    "\n",
    "# help(subjects)\n",
    "\n",
    "total = sum(subjects) # 210\n",
    "avg = total / len(subjects)\n",
    "\n",
    "print(\"avg = \", avg)"
   ]
  },
  {
   "cell_type": "code",
   "execution_count": 26,
   "metadata": {},
   "outputs": [
    {
     "name": "stdout",
     "output_type": "stream",
     "text": [
      "avg =  70.0\n"
     ]
    }
   ],
   "source": [
    "# print(type({}))\n",
    "subjects = {\"국어\" : 80, \"영어\" : 75, \"수학\" : 55}\n",
    "total = subjects[\"국어\"] + subjects[\"영어\"] + subjects[\"수학\"]\n",
    "avg = total / len(subjects)\n",
    "\n",
    "print(\"avg = \", avg)"
   ]
  },
  {
   "cell_type": "code",
   "execution_count": 3,
   "metadata": {},
   "outputs": [
    {
     "name": "stdout",
     "output_type": "stream",
     "text": [
      "최은아 님의 총점 =  287 , 평균 =  95.66666666666667 입니다.\n",
      "최은아님의 총점 = 287, 평균 = 95.666667 입니다.\n",
      "최은아님의 총점 = 287, 평균 = 95.66666666666667 입니다.\n",
      "최은아님의 총점 = 287, 평균 = 95.66666666666667 입니다.\n"
     ]
    }
   ],
   "source": [
    "# 사용자로부터 이름과 성적을 입력받아 총점과 평균을 구해 출력하는 프로그램을 작성하시오.\n",
    "name = input(\"이름을 입력하세요 : \")\n",
    "kor = input(\"국어 점수를 입력하세요 : \")\n",
    "eng = input(\"영어 점수를 입력하세요 : \")\n",
    "math = input(\"수학 점수를 입력하세요 : \")\n",
    "\n",
    "total = int(kor) + int(eng) + int(math) # str → int\n",
    "avg = total / 3\n",
    "\n",
    "print(name, \"님의 총점 = \", total, \", 평균 = \", avg, \"입니다.\")\n",
    "print(\"%s님의 총점 = %d, 평균 = %f 입니다.\" % (name, total, avg))\n",
    "print(\"{}님의 총점 = {}, 평균 = {} 입니다.\".format(name, total, avg))\n",
    "print(f\"{name}님의 총점 = {total}, 평균 = {avg} 입니다.\")\n",
    "\n",
    "# print(\"입력하신 이름은 : \", name, \"입니다.\")\n",
    "# print(type(name))"
   ]
  },
  {
   "cell_type": "markdown",
   "metadata": {},
   "source": [
    "> Q2   \n",
    "``` py\n",
    "    자연수 13이 홀수인지 짝수인지 판별할 수 있는 방법에 대해 말해 보자.\n",
    "```"
   ]
  },
  {
   "cell_type": "code",
   "execution_count": 7,
   "metadata": {},
   "outputs": [
    {
     "name": "stdout",
     "output_type": "stream",
     "text": [
      "짝수입니다.\n"
     ]
    }
   ],
   "source": [
    "# 사용자로부터 정수를 입력받아 홀짝수를 판별해주는 프로그램을 작성하시오.\n",
    "\n",
    "# 홀수와 짝수 구별법\n",
    "# 짝수 \"02468\"\n",
    "# 홀수 \"13579\"\n",
    "\n",
    "number = input(\"자연수를 입력해주세요\")\n",
    "\n",
    "if number[-1] in \"02468\" :\n",
    "    print(\"짝수입니다.\")\n",
    "else :\n",
    "    print(\"홀수입니다.\")"
   ]
  },
  {
   "cell_type": "code",
   "execution_count": 8,
   "metadata": {},
   "outputs": [
    {
     "name": "stdout",
     "output_type": "stream",
     "text": [
      "홀수입니다.\n"
     ]
    }
   ],
   "source": [
    "# 2n + 1, 2n - 1\n",
    "number = int(input(\"자연수를 입력해주세요\"))\n",
    "\n",
    "if number % 2 == 0 :\n",
    "    print(\"짝수입니다.\")\n",
    "else :\n",
    "    print(\"홀수입니다.\")"
   ]
  },
  {
   "cell_type": "markdown",
   "metadata": {},
   "source": [
    "> Q3   \n",
    "``` py   \n",
    "    홍길동 씨의 주민등록번호는 881120-1068234이다.  \n",
    "    홍길동 씨의 주민등록번호를 연월일(YYYYMMDD) 부분과 그 뒤의 숫자 부분으로 나누어 출력해 보자.\n",
    "```"
   ]
  },
  {
   "cell_type": "code",
   "execution_count": 12,
   "metadata": {},
   "outputs": [
    {
     "name": "stdout",
     "output_type": "stream",
     "text": [
      "881120\n",
      "1068234\n"
     ]
    }
   ],
   "source": [
    "pin = \"881120-1068234\"\n",
    "\n",
    "yymmdd = pin[ : 5 + 1]\n",
    "print(yymmdd)\n",
    "\n",
    "back = pin[7 : ]\n",
    "print(back)"
   ]
  },
  {
   "cell_type": "markdown",
   "metadata": {},
   "source": [
    "> Q4   \n",
    "``` py   \n",
    "    주민등록번호 뒷자리의 맨 첫 번째 숫자는 성별을 나타낸다.    \n",
    "    주민등록번호에서 성별을 나타내는 숫자를 출력해 보자.   \n",
    "```"
   ]
  },
  {
   "cell_type": "code",
   "execution_count": null,
   "metadata": {},
   "outputs": [],
   "source": [
    "# 주민번호(13자리)를 입력받아 출생년도와 나이, 성별을 출력해주는 프로그램을 작성하시오.\n",
    "\n",
    "# 사용자 입력받기\n",
    "pin = input(\"주민번호 13자리를 입력해주세요 : \")\n",
    "\n",
    "# 생년월일 추출\n",
    "yymmdd = pin[ : 6]\n",
    "\n",
    "# 성별\n",
    "gender = pin[6]\n",
    "\n",
    "# 출생 연도\n",
    "year = \"\"\n",
    "\n",
    "# 나이\n",
    "age = 0\n",
    "\n",
    "if gender in \"12\" :\n",
    "    year = '19' + yymmdd[ : 2]\n",
    "elif gender in \"34\":\n",
    "    year = '20' + yymmdd[ : 2]\n",
    "\n",
    "age = 2022 - int(year) + 1\n",
    "\n",
    "print(\"당신의 출생 연도는 {}년\".format(year))\n",
    "print(\"당신의 나이는 {}세\".format(age))\n",
    "\n",
    "if int(gender) % 2 == 0 :\n",
    "    print(\"여성입니다.\")\n",
    "else :\n",
    "    print(\"남성입니다.\")"
   ]
  },
  {
   "cell_type": "markdown",
   "metadata": {},
   "source": [
    "> Q5   \n",
    "``` py\n",
    "    다음과 같은 문자열 a:b:c:d가 있다.    \n",
    "    문자열의 replace 함수를 사용하여 a#b#c#d로 바꿔서 출력해 보자.   \n",
    "```"
   ]
  },
  {
   "cell_type": "code",
   "execution_count": 49,
   "metadata": {},
   "outputs": [
    {
     "name": "stdout",
     "output_type": "stream",
     "text": [
      "a:b:c:d\n",
      "a#b#c#d\n",
      "22/01/18\n",
      "Java Programming\n",
      "abcd abcd abcd\n",
      "abcd\n",
      "a b c d "
     ]
    }
   ],
   "source": [
    "text = \"a:b:c:d\"\n",
    "print(text)\n",
    "\n",
    "print(text.replace(':', '#'))\n",
    "\n",
    "date = \"22:01:18\"\n",
    "print(date.replace(':', '/'))\n",
    "\n",
    "\n",
    "str = \"Python Programming\"\n",
    "print(str.replace(\"Python\", \"Java\"))\n",
    "\n",
    "strs = \"abcd\"\n",
    "print(strs, end = ' ')\n",
    "print(strs, end = ' ')\n",
    "print(strs, end = '\\n') # default\n",
    "print(strs)\n",
    "\n",
    "for c in strs :\n",
    "    print(c, end = ' ')"
   ]
  },
  {
   "cell_type": "markdown",
   "metadata": {},
   "source": [
    "> Q6.   \n",
    "``` py   \n",
    "    [1, 3, 5, 4, 2]라는 리스트를 [5, 4, 3, 2, 1]로 만들어보자.   \n",
    "```"
   ]
  },
  {
   "cell_type": "code",
   "execution_count": 102,
   "metadata": {},
   "outputs": [
    {
     "name": "stdout",
     "output_type": "stream",
     "text": [
      "[1, 2, 3, 4, 5]\n",
      "[5, 4, 3, 2, 1]\n"
     ]
    }
   ],
   "source": [
    "myList = [1, 3, 5, 4, 2]\n",
    "\n",
    "myList.sort()\n",
    "print(myList)\n",
    "\n",
    "myList.reverse()\n",
    "print(myList)"
   ]
  },
  {
   "cell_type": "markdown",
   "metadata": {},
   "source": [
    "시험 점수 중 최고점과 최저점 알아내기"
   ]
  },
  {
   "cell_type": "code",
   "execution_count": 55,
   "metadata": {},
   "outputs": [
    {
     "name": "stdout",
     "output_type": "stream",
     "text": [
      "100\n",
      "100\n",
      "20\n",
      "20\n"
     ]
    },
    {
     "data": {
      "text/plain": [
       "True"
      ]
     },
     "execution_count": 55,
     "metadata": {},
     "output_type": "execute_result"
    }
   ],
   "source": [
    "score = [100, 30, 50, 40, 20, 95]\n",
    "\n",
    "score.sort()\n",
    "\n",
    "print(score[-1])\n",
    "print(max(score))\n",
    "max(score) == score[-1] # True (100)\n",
    "\n",
    "print(score[0])\n",
    "print(min(score))\n",
    "min(score) == score[0] # True (20)"
   ]
  },
  {
   "cell_type": "markdown",
   "metadata": {},
   "source": [
    "> Q7.   \n",
    "``` py   \n",
    "    ['Life', 'is', 'too', 'short'] 라는 리스트를 Life is too short라는 문자열로 만들어 출력해 보자.   \n",
    "```"
   ]
  },
  {
   "cell_type": "code",
   "execution_count": 69,
   "metadata": {},
   "outputs": [
    {
     "name": "stdout",
     "output_type": "stream",
     "text": [
      "\n",
      "Life \n",
      "Life is \n",
      "Life is too \n",
      "Life is too sort \n",
      "Life is too sort\n"
     ]
    }
   ],
   "source": [
    "old_text = ['Life', 'is', 'too', 'sort']\n",
    "new_text = \"\"\n",
    "# new_text = old_text[0] + \" \" + old_text[1] + \" \" + old_text[2] + \" \" + old_text[3]\n",
    "\n",
    "# for문 이용하기\n",
    "for s in old_text :\n",
    "    print(new_text)\n",
    "    new_text += s + \" \"\n",
    "\n",
    "print(new_text)\n",
    "\n",
    "# format() 함수를 이용해 바로 출력하기\n",
    "new_text = \"{} {} {} {}\".format(old_text[0], old_text[1], old_text[2], old_text[3])\n",
    "print(new_text)"
   ]
  },
  {
   "cell_type": "markdown",
   "metadata": {},
   "source": [
    "> Q8.   \n",
    "``` py   \n",
    "    (1,2,3)이라는 튜플에 4라는 값을 추가하여 (1,2,3,4)처럼 만들어 출력해 보자.   \n",
    "```"
   ]
  },
  {
   "cell_type": "markdown",
   "metadata": {},
   "source": [
    "* 리스트에서 인덱싱하기"
   ]
  },
  {
   "cell_type": "code",
   "execution_count": 74,
   "metadata": {},
   "outputs": [
    {
     "data": {
      "text/plain": [
       "100"
      ]
     },
     "execution_count": 74,
     "metadata": {},
     "output_type": "execute_result"
    }
   ],
   "source": [
    "objects = ['a', 1, True, [100, ['x', 'y']]]\n",
    "objects[3][1][0] # x\n",
    "objects[3][0] # 100"
   ]
  },
  {
   "cell_type": "markdown",
   "metadata": {},
   "source": [
    "* 리스트와 튜플의 차이점"
   ]
  },
  {
   "cell_type": "code",
   "execution_count": 98,
   "metadata": {},
   "outputs": [
    {
     "name": "stdout",
     "output_type": "stream",
     "text": [
      "myList =  [100, 2, 3, 4]\n",
      "myTuple =  (1, 2, 3)\n"
     ]
    },
    {
     "data": {
      "text/plain": [
       "tuple"
      ]
     },
     "execution_count": 98,
     "metadata": {},
     "output_type": "execute_result"
    }
   ],
   "source": [
    "myList = [1, 2, 3]\n",
    "myTuple = (1, 2, 3)\n",
    "myTuple[1] # 2\n",
    "\n",
    "myList.append(4)\n",
    "myList # [1, 2, 3, 4]\n",
    "\n",
    "myList[0] = 100\n",
    "print(\"myList = \", myList)\n",
    "# 리스트는 값 수정이 가능하다.\n",
    "\n",
    "'''\n",
    "myTuple[0] = 100\n",
    "print(\"myTuple = \", myTuple)\n",
    "# 튜플은 값 수정이 불가하다. → 상수화\n",
    "'''\n",
    "\n",
    "print(\"myTuple = \", myTuple)\n",
    "type(myTuple)"
   ]
  },
  {
   "cell_type": "code",
   "execution_count": 6,
   "metadata": {},
   "outputs": [
    {
     "name": "stdout",
     "output_type": "stream",
     "text": [
      "myTuple2 =  (1, 2, 3, 4)\n"
     ]
    },
    {
     "data": {
      "text/plain": [
       "(1, 2, 3, 4)"
      ]
     },
     "execution_count": 6,
     "metadata": {},
     "output_type": "execute_result"
    }
   ],
   "source": [
    "'''\n",
    "myList2 = [1, 2, 3, 4]\n",
    "myTuple2 = tuple(myList2)\n",
    "print(\"myTuple2 = \", myTuple2)\n",
    "'''\n",
    "\n",
    "myTuple2 = (1, 2, 3)\n",
    "myList2 = list(myTuple2)\n",
    "myList2.append(4)\n",
    "myTuple2 = tuple(myList2)\n",
    "myTuple2"
   ]
  },
  {
   "cell_type": "markdown",
   "metadata": {},
   "source": [
    "> Q9.   \n",
    "``` py   \n",
    "    다음과 같은 딕셔너리 a가 있다. 다음 중 오류가 발생하는 경우는 어떤 경우인가?   \n",
    "    그리고 그 이유를 설명해 보자.   \n",
    "    >>> a = dict()   \n",
    "    >>> a   \n",
    "    {}   \n",
    "\n",
    "    다음 중 오류가 발생하는 경우를 고르고, 그 이유를 설명해 보자.   \n",
    "\n",
    "    1. a['name'] = 'python'   \n",
    "    2. a[('a',)] = 'python'   \n",
    "    3. a[[1]] = 'python'   \n",
    "    4. a[250] = 'python'   \n",
    "```"
   ]
  },
  {
   "cell_type": "code",
   "execution_count": 10,
   "metadata": {},
   "outputs": [
    {
     "name": "stdout",
     "output_type": "stream",
     "text": [
      "{'name': 'python'}\n",
      "{'name': 'python', ('a',): 'python'}\n",
      "{'name': 'python', ('a',): 'python', 250: 'python'}\n"
     ]
    }
   ],
   "source": [
    "a = dict()\n",
    "\n",
    "a['name'] = 'python'\n",
    "print(a)\n",
    "\n",
    "a[('a',)] = 'python'\n",
    "print(a)\n",
    "\n",
    "# a[[1]] = 'python' # 오류\n",
    "# 키 값은 불변한(immutable) 객체 타입이 와야 하므로,s 변할 수 있는(mutable) 객체 타입인 리스트는 딕셔너리의 키가 될 수 없다.\n",
    "\n",
    "a[250] = 'python'\n",
    "print(a)"
   ]
  },
  {
   "cell_type": "markdown",
   "metadata": {},
   "source": [
    "> Q10   \n",
    "``` py   \n",
    "    딕셔너리 a에서 'B'에 해당되는 값을 추출해 보자.   \n",
    "\n",
    "    >>> a = {'A':90, 'B':80, 'C':70}   \n",
    "    ※ 딕셔너리의 pop 함수를 사용해 보자.   \n",
    "```"
   ]
  },
  {
   "cell_type": "code",
   "execution_count": 26,
   "metadata": {},
   "outputs": [
    {
     "name": "stdout",
     "output_type": "stream",
     "text": [
      "80\n",
      "{'A': 90, 'C': 70}\n"
     ]
    }
   ],
   "source": [
    "a = {'A' : 90, 'B' : 80, 'C' : 70} \n",
    "# a['B'] # 80\n",
    "print(a.pop('B')) # 80\n",
    "print(a)\n",
    "\n",
    "# pop() : 꺼내서 버린다는 의미, 그 키에 해당되는 값을 리턴한다."
   ]
  },
  {
   "cell_type": "markdown",
   "metadata": {},
   "source": [
    "> Q11   \n",
    "``` py   \n",
    "    a 리스트에서 중복 숫자를 제거해 보자.   \n",
    "\n",
    "    >>> a = [1, 1, 1, 2, 2, 3, 3, 3, 4, 4, 5]    \n",
    "    ※ 집합 자료형의 요솟값이 중복될 수 없다는 특징을 사용해 보자.    \n",
    "```"
   ]
  },
  {
   "cell_type": "code",
   "execution_count": 20,
   "metadata": {},
   "outputs": [
    {
     "name": "stdout",
     "output_type": "stream",
     "text": [
      "{1, 2, 3}\n",
      "<class 'set'>\n"
     ]
    }
   ],
   "source": [
    "[1, 2, 3]\n",
    "(1, 2, 3)\n",
    "{'a' : 1, 'b' : 2, 'c ' : 3} # dict\n",
    "{1, 2, 3} # set\n",
    "\n",
    "mySet = {1, 2, 3, 3, 1, 2} \n",
    "print(mySet) # set은 알아서 중복이 제거된다.\n",
    "\n",
    "print(type({1,}))"
   ]
  },
  {
   "cell_type": "code",
   "execution_count": 22,
   "metadata": {},
   "outputs": [
    {
     "name": "stdout",
     "output_type": "stream",
     "text": [
      "[1, 1, 1, 2, 2, 3, 3, 3, 4, 4, 5]\n",
      "{1, 2, 3, 4, 5}\n"
     ]
    }
   ],
   "source": [
    "a = [1, 1, 1, 2, 2, 3, 3, 3, 4, 4, 5]\n",
    "a2 = set(a)\n",
    "\n",
    "print(a)\n",
    "print(a2)"
   ]
  },
  {
   "cell_type": "markdown",
   "metadata": {},
   "source": [
    "> Q12   \n",
    "``` py   \n",
    "    파이썬은 다음처럼 동일한 값에 여러 개의 변수를 선언할 수 있다.    \n",
    "    다음과 같이 a, b 변수를 선언한 후 a의 두 번째 요솟값을 변경하면 b 값은 어떻게 될까?    \n",
    "    그리고 이런 결과가 오는 이유에 대해 설명해 보자.   \n",
    "\n",
    "    >>> a = b = [1, 2, 3]   \n",
    "    >>> a[1] = 4   \n",
    "    >>> print(b)   \n",
    "```"
   ]
  },
  {
   "cell_type": "code",
   "execution_count": 31,
   "metadata": {},
   "outputs": [
    {
     "name": "stdout",
     "output_type": "stream",
     "text": [
      "[1, 4, 3]\n",
      "[1, 4, 3]\n",
      "2752046494784\n",
      "2752046494784\n"
     ]
    }
   ],
   "source": [
    "a = b = [1, 2, 3]\n",
    "a[1] = 4\n",
    "print(a)\n",
    "print(b)\n",
    "\n",
    "print(id(a))\n",
    "print(id(b))\n",
    "\n",
    "# id가 같으면 같은 객체(메모리 주소)를 참조한다. 따라서 b값도 변경된다.\n",
    "\n"
   ]
  },
  {
   "cell_type": "code",
   "execution_count": 32,
   "metadata": {},
   "outputs": [
    {
     "name": "stdout",
     "output_type": "stream",
     "text": [
      "[1, 4, 3]\n",
      "[1, 2, 3]\n",
      "2752046504128\n",
      "2752018460032\n"
     ]
    }
   ],
   "source": [
    "a = [1, 2, 3]\n",
    "b = [1, 2, 3]\n",
    "a[1] = 4\n",
    "print(a)\n",
    "print(b)\n",
    "\n",
    "print(id(a))\n",
    "print(id(b))\n",
    "\n",
    "# a와 b는 다른 객체이므로, a 값을 변경하더라도 b 값은 변경되지 않는다."
   ]
  }
 ],
 "metadata": {
  "interpreter": {
   "hash": "4aa7a001941c8b447200068b1d71a3924cf04f02fe096f0aa27a7230a4a7f943"
  },
  "kernelspec": {
   "display_name": "Python 3.10.1 64-bit",
   "language": "python",
   "name": "python3"
  },
  "language_info": {
   "codemirror_mode": {
    "name": "ipython",
    "version": 3
   },
   "file_extension": ".py",
   "mimetype": "text/x-python",
   "name": "python",
   "nbconvert_exporter": "python",
   "pygments_lexer": "ipython3",
   "version": "3.10.1"
  },
  "orig_nbformat": 4
 },
 "nbformat": 4,
 "nbformat_minor": 2
}
