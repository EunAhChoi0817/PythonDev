{
 "cells": [
  {
   "cell_type": "code",
   "execution_count": 24,
   "metadata": {},
   "outputs": [
    {
     "name": "stdout",
     "output_type": "stream",
     "text": [
      "<class 'int'>\n",
      "7\n",
      "65\n",
      "1\n",
      "314.0\n",
      "314.0\n",
      "314.0\n",
      "0.0314\n"
     ]
    }
   ],
   "source": [
    "# 파이썬은 모든 것이 클래스\n",
    "\n",
    "i = 65 # 65를 i에 담는다가 아니라 65라는 객체가 생성되고 i라는 변수가 그 객체의 주소를 참조한다.\n",
    "i = int(65) # Integer(65)\n",
    "print(type(i))\n",
    "print(i.bit_length()) # 7\n",
    "print(i)\n",
    "ord('A') # 65 # 인코딩 : 문자열을 숫자로\n",
    "ord('B') # 66\n",
    "bin(i) # 0b1000001\n",
    "\n",
    "chr(65) # A\n",
    "chr(65 + 25) # Z # 디코딩 : 숫자를 문자열로\n",
    "\n",
    "'''\n",
    "j = chr(65)\n",
    "print(type(j))\n",
    "print(j)\n",
    "'''\n",
    "\n",
    "a = 0\n",
    "b = 1\n",
    "c = a + b\n",
    "print(c) # 1\n",
    "\n",
    "ord('a') # 97\n",
    "bin(ord('a')) # 0b1100001\n",
    "\n",
    "print(3.14E2)\n",
    "print(3.14 * 10 * 10)\n",
    "print(3.14 * 10**2)\n",
    "\n",
    "print(3.14E-2) # 3.14 * (1/100)"
   ]
  }
 ],
 "metadata": {
  "interpreter": {
   "hash": "ae305f4dee197bdc0c916b004f5792eca0da2328f3eb5fe8e31b308819fc7eb2"
  },
  "kernelspec": {
   "display_name": "Python 3.10.1 64-bit",
   "language": "python",
   "name": "python3"
  },
  "language_info": {
   "codemirror_mode": {
    "name": "ipython",
    "version": 3
   },
   "file_extension": ".py",
   "mimetype": "text/x-python",
   "name": "python",
   "nbconvert_exporter": "python",
   "pygments_lexer": "ipython3",
   "version": "3.10.1"
  },
  "orig_nbformat": 4
 },
 "nbformat": 4,
 "nbformat_minor": 2
}
