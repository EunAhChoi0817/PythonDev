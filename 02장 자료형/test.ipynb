{
 "cells": [
  {
   "cell_type": "code",
   "execution_count": 24,
   "metadata": {},
   "outputs": [
    {
     "name": "stdout",
     "output_type": "stream",
     "text": [
      "<class 'int'>\n",
      "7\n",
      "65\n",
      "1\n",
      "314.0\n",
      "314.0\n",
      "314.0\n",
      "0.0314\n"
     ]
    }
   ],
   "source": [
    "# 파이썬은 모든 것이 클래스\n",
    "\n",
    "i = 65 # 65를 i에 담는다가 아니라 65라는 객체가 생성되고 i라는 변수가 그 객체의 주소를 참조한다.\n",
    "i = int(65) # Integer(65)\n",
    "print(type(i))\n",
    "print(i.bit_length()) # 7\n",
    "print(i)\n",
    "ord('A') # 65 # 인코딩 : 문자열을 숫자로\n",
    "ord('B') # 66\n",
    "bin(i) # 0b1000001\n",
    "\n",
    "chr(65) # A\n",
    "chr(65 + 25) # Z # 디코딩 : 숫자를 문자열로\n",
    "\n",
    "'''\n",
    "j = chr(65)\n",
    "print(type(j))\n",
    "print(j)\n",
    "'''\n",
    "\n",
    "a = 0\n",
    "b = 1\n",
    "c = a + b\n",
    "print(c) # 1\n",
    "\n",
    "ord('a') # 97\n",
    "bin(ord('a')) # 0b1100001\n",
    "\n",
    "print(3.14E2)\n",
    "print(3.14 * 10 * 10)\n",
    "print(3.14 * 10**2)\n",
    "\n",
    "print(3.14E-2) # 3.14 * (1/100)"
   ]
  },
  {
   "cell_type": "markdown",
   "metadata": {},
   "source": [
    "> 이스케이프 코드"
   ]
  },
  {
   "cell_type": "code",
   "execution_count": 4,
   "metadata": {},
   "outputs": [
    {
     "name": "stdout",
     "output_type": "stream",
     "text": [
      "C:\\PythonDev\\name\n"
     ]
    }
   ],
   "source": [
    "path = \"C:\\\\PythonDev\\\\name\"\n",
    "path = \"C:/PythonDev/name\"\n",
    "print(path)\n",
    "\n",
    "# 경로를 적을 때에는 역슬래시(\\) 두 개를 사용하거나 슬래시(/)를 사용한다."
   ]
  },
  {
   "cell_type": "markdown",
   "metadata": {},
   "source": [
    "> 문자열 연산하기"
   ]
  },
  {
   "cell_type": "code",
   "execution_count": 9,
   "metadata": {},
   "outputs": [
    {
     "data": {
      "text/plain": [
       "'❤'"
      ]
     },
     "execution_count": 9,
     "metadata": {},
     "output_type": "execute_result"
    }
   ],
   "source": [
    "\"❤\" * 10\n",
    "ord('❤')\n",
    "chr(10084)"
   ]
  },
  {
   "cell_type": "markdown",
   "metadata": {},
   "source": [
    "> 문자열 인덱싱과 슬라이싱"
   ]
  },
  {
   "cell_type": "code",
   "execution_count": 10,
   "metadata": {},
   "outputs": [
    {
     "name": "stdout",
     "output_type": "stream",
     "text": [
      "3\n"
     ]
    }
   ],
   "source": [
    "array = [1, 2, 3, 4, 5]\n",
    "print(array[2])"
   ]
  },
  {
   "cell_type": "code",
   "execution_count": 33,
   "metadata": {},
   "outputs": [
    {
     "data": {
      "text/plain": [
       "[1, 2, 3]"
      ]
     },
     "execution_count": 33,
     "metadata": {},
     "output_type": "execute_result"
    }
   ],
   "source": [
    "#       0123456789012345678901234567890123\n",
    "text = \"Life is too short, You need Python\"\n",
    "\n",
    "# 문자열 인덱싱 활용하기\n",
    "text[19]\n",
    "text[0]\n",
    "text[-1]\n",
    "text[-2]\n",
    "\n",
    "text[-1] == text[33] # -1은 오른쪽부터 시작\n",
    "\n",
    "# 문자열 슬라이싱\n",
    "# text[시작인덱스 : 끝인덱스] = 시작 <=   < 끝\n",
    "text[0 : 3 + 1]\n",
    "text[28 : ]\n",
    "text[ : 4]\n",
    "text[ : ]\n",
    "text\n",
    "\n",
    "# 리스트 슬라이싱\n",
    "li = [1, 2, 3, 4, 5]\n",
    "li[ : 2 + 1]\n",
    "li[-1]"
   ]
  },
  {
   "cell_type": "markdown",
   "metadata": {},
   "source": [
    "> 문자열 포매팅"
   ]
  },
  {
   "cell_type": "code",
   "execution_count": 44,
   "metadata": {},
   "outputs": [
    {
     "name": "stdout",
     "output_type": "stream",
     "text": [
      "영희님의 국어 점수는 90점입니다.\n",
      "철수님의 국어 점수는 80점입니다.\n",
      "길동님의 국어 점수는 70점입니다.\n",
      "민수님의 국어 점수는 60점입니다.\n",
      "정우님의 국어 점수는 50점입니다.\n"
     ]
    }
   ],
   "source": [
    "name = [\"영희\", \"철수\", \"길동\", \"민수\", \"정우\"]\n",
    "subject = \"국어\"\n",
    "score = [90, 80, 70, 60, 50]\n",
    "\n",
    "#               0, 1, 2\n",
    "for i in range (len(name)) :\n",
    "    text = \"%s님의 %s 점수는 %d점입니다.\" % (name[i], subject, score[i])\n",
    "    print(text)"
   ]
  },
  {
   "cell_type": "code",
   "execution_count": 46,
   "metadata": {},
   "outputs": [
    {
     "name": "stdout",
     "output_type": "stream",
     "text": [
      "영희님의 수학 점수는 95점입니다.\n"
     ]
    }
   ],
   "source": [
    "# \"문자열\".format()\n",
    "name = \"영희\"\n",
    "subject = \"수학\"\n",
    "score = 95\n",
    "\n",
    "text = \"{}님의 {} 점수는 {}점입니다.\".format(name, subject, score)\n",
    "text = \"{0}님의 {1} 점수는 {2}점입니다.\".format(name, subject, score)\n",
    "print(text)"
   ]
  },
  {
   "cell_type": "code",
   "execution_count": 47,
   "metadata": {},
   "outputs": [
    {
     "name": "stdout",
     "output_type": "stream",
     "text": [
      "영희님의 수학 점수는 95점입니다.\n"
     ]
    }
   ],
   "source": [
    "name = \"영희\"\n",
    "subject = \"수학\"\n",
    "score = 95\n",
    "\n",
    "text = f\"{name}님의 {subject} 점수는 {score}점입니다.\"\n",
    "print(text)"
   ]
  }
 ],
 "metadata": {
  "interpreter": {
   "hash": "ae305f4dee197bdc0c916b004f5792eca0da2328f3eb5fe8e31b308819fc7eb2"
  },
  "kernelspec": {
   "display_name": "Python 3.10.1 64-bit",
   "language": "python",
   "name": "python3"
  },
  "language_info": {
   "codemirror_mode": {
    "name": "ipython",
    "version": 3
   },
   "file_extension": ".py",
   "mimetype": "text/x-python",
   "name": "python",
   "nbconvert_exporter": "python",
   "pygments_lexer": "ipython3",
   "version": "3.10.1"
  },
  "orig_nbformat": 4
 },
 "nbformat": 4,
 "nbformat_minor": 2
}
